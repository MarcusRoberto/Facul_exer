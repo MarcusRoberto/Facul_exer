{
  "nbformat": 4,
  "nbformat_minor": 0,
  "metadata": {
    "colab": {
      "provenance": [],
      "authorship_tag": "ABX9TyNoHLvmbz6cS2J/+FLdWIAw",
      "include_colab_link": true
    },
    "kernelspec": {
      "name": "python3",
      "display_name": "Python 3"
    },
    "language_info": {
      "name": "python"
    }
  },
  "cells": [
    {
      "cell_type": "markdown",
      "metadata": {
        "id": "view-in-github",
        "colab_type": "text"
      },
      "source": [
        "<a href=\"https://colab.research.google.com/github/MarcusRoberto/Facul_exer/blob/main/facul_bigdata03_video.ipynb\" target=\"_parent\"><img src=\"https://colab.research.google.com/assets/colab-badge.svg\" alt=\"Open In Colab\"/></a>"
      ]
    },
    {
      "cell_type": "markdown",
      "source": [
        "# **Sintaxe de Python**\n",
        "*Exercicio 1*"
      ],
      "metadata": {
        "id": "N5XIjhTbtNv1"
      }
    },
    {
      "cell_type": "code",
      "execution_count": null,
      "metadata": {
        "id": "sY1vomn0myt_"
      },
      "outputs": [],
      "source": [
        "teste_int = 2"
      ]
    },
    {
      "cell_type": "code",
      "source": [
        "teste_str = \"batata\""
      ],
      "metadata": {
        "id": "KlsLOIEyoEqH"
      },
      "execution_count": null,
      "outputs": []
    },
    {
      "cell_type": "code",
      "source": [
        "teste_lista = [1,2,3]"
      ],
      "metadata": {
        "id": "DKeLex67oHXN"
      },
      "execution_count": null,
      "outputs": []
    },
    {
      "cell_type": "code",
      "source": [
        "if teste_int%2 == 0:\n",
        "  print(\"número par: \", teste_int)"
      ],
      "metadata": {
        "colab": {
          "base_uri": "https://localhost:8080/"
        },
        "id": "S9ZXoIDdoKOt",
        "outputId": "ad82b2b4-a954-4e5e-f14c-5998c95a4c9a"
      },
      "execution_count": null,
      "outputs": [
        {
          "output_type": "stream",
          "name": "stdout",
          "text": [
            "número par:  2\n"
          ]
        }
      ]
    },
    {
      "cell_type": "code",
      "source": [
        "for cha in teste_str:\n",
        "  if cha.lower() in [\"a\",\"e\",\"i\",\"o\",\"u\"]:\n",
        "    print(cha, \" <- é vogal, bro\")\n",
        "  else:\n",
        "    print(cha, \" <- é consoante, bro\")\n"
      ],
      "metadata": {
        "colab": {
          "base_uri": "https://localhost:8080/"
        },
        "id": "k1pnvucgoZql",
        "outputId": "b0c2969f-e63b-4b9e-934c-7a357056a756"
      },
      "execution_count": null,
      "outputs": [
        {
          "output_type": "stream",
          "name": "stdout",
          "text": [
            "b  <- é consoante, bro\n",
            "a  <- é vogal, bro\n",
            "t  <- é consoante, bro\n",
            "a  <- é vogal, bro\n",
            "t  <- é consoante, bro\n",
            "a  <- é vogal, bro\n"
          ]
        }
      ]
    },
    {
      "cell_type": "code",
      "source": [
        "lista_tds = [teste_int,teste_str,teste_lista]"
      ],
      "metadata": {
        "id": "j_1XC9Ipp71W"
      },
      "execution_count": null,
      "outputs": []
    },
    {
      "cell_type": "code",
      "source": [
        "for i in lista_tds:\n",
        "  print(\"------------\")\n",
        "  print(type(i))"
      ],
      "metadata": {
        "colab": {
          "base_uri": "https://localhost:8080/"
        },
        "id": "pTOXgsJ8qEDE",
        "outputId": "6418722b-6d81-4d0e-bb23-5432ae87b7a6"
      },
      "execution_count": null,
      "outputs": [
        {
          "output_type": "stream",
          "name": "stdout",
          "text": [
            "------------\n",
            "<class 'int'>\n",
            "------------\n",
            "<class 'str'>\n",
            "------------\n",
            "<class 'list'>\n"
          ]
        }
      ]
    },
    {
      "cell_type": "code",
      "source": [
        "a = 2\n",
        "f = 3\n",
        "print(a+f)"
      ],
      "metadata": {
        "colab": {
          "base_uri": "https://localhost:8080/"
        },
        "id": "Qg0ML8_jrA42",
        "outputId": "c3471e4b-bd6b-48fc-c2cf-ef58c5db0b70"
      },
      "execution_count": null,
      "outputs": [
        {
          "output_type": "stream",
          "name": "stdout",
          "text": [
            "5\n"
          ]
        }
      ]
    },
    {
      "cell_type": "code",
      "source": [
        "try:\n",
        "  a+g\n",
        "except Exception as execao:\n",
        "  print(execao)"
      ],
      "metadata": {
        "colab": {
          "base_uri": "https://localhost:8080/"
        },
        "id": "-__mNsdrrupd",
        "outputId": "cbab81c5-c877-4edb-bc7d-796dd12a93e1"
      },
      "execution_count": null,
      "outputs": [
        {
          "output_type": "stream",
          "name": "stdout",
          "text": [
            "unsupported operand type(s) for +: 'int' and 'str'\n"
          ]
        }
      ]
    },
    {
      "cell_type": "code",
      "source": [
        "g =  \"abo\""
      ],
      "metadata": {
        "id": "CUrGduyTrHh0"
      },
      "execution_count": null,
      "outputs": []
    },
    {
      "cell_type": "code",
      "source": [
        "str(a)+g"
      ],
      "metadata": {
        "colab": {
          "base_uri": "https://localhost:8080/",
          "height": 35
        },
        "id": "k55EohdbrOZl",
        "outputId": "2550d6ca-94d1-46e2-e733-4c971b828c42"
      },
      "execution_count": null,
      "outputs": [
        {
          "output_type": "execute_result",
          "data": {
            "text/plain": [
              "'2abo'"
            ],
            "application/vnd.google.colaboratory.intrinsic+json": {
              "type": "string"
            }
          },
          "metadata": {},
          "execution_count": 42
        }
      ]
    },
    {
      "cell_type": "code",
      "source": [
        "teste_lista.append(a)"
      ],
      "metadata": {
        "id": "uhKnw9Bvr90d"
      },
      "execution_count": null,
      "outputs": []
    },
    {
      "cell_type": "code",
      "source": [
        "print(teste_lista)"
      ],
      "metadata": {
        "colab": {
          "base_uri": "https://localhost:8080/"
        },
        "id": "BLypUFSvsUbl",
        "outputId": "de58c030-acf0-4cb9-f434-076092ecb7d3"
      },
      "execution_count": null,
      "outputs": [
        {
          "output_type": "stream",
          "name": "stdout",
          "text": [
            "[1, 2, 3, 2]\n"
          ]
        }
      ]
    },
    {
      "cell_type": "code",
      "source": [
        "set(teste_lista)"
      ],
      "metadata": {
        "colab": {
          "base_uri": "https://localhost:8080/"
        },
        "id": "XdC7dBlwsj_t",
        "outputId": "013ede45-11ce-4ab1-f88f-634041219d3e"
      },
      "execution_count": null,
      "outputs": [
        {
          "output_type": "execute_result",
          "data": {
            "text/plain": [
              "{1, 2, 3}"
            ]
          },
          "metadata": {},
          "execution_count": 45
        }
      ]
    }
  ]
}