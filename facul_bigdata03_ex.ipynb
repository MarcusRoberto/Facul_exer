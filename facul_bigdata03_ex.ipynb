{
  "nbformat": 4,
  "nbformat_minor": 0,
  "metadata": {
    "colab": {
      "provenance": [],
      "authorship_tag": "ABX9TyOSxp7EmJyAB+Tks46uQgrr",
      "include_colab_link": true
    },
    "kernelspec": {
      "name": "python3",
      "display_name": "Python 3"
    },
    "language_info": {
      "name": "python"
    }
  },
  "cells": [
    {
      "cell_type": "markdown",
      "metadata": {
        "id": "view-in-github",
        "colab_type": "text"
      },
      "source": [
        "<a href=\"https://colab.research.google.com/github/MarcusRoberto/Facul_exer/blob/Bgdata_python/facul_bigdata03_ex.ipynb\" target=\"_parent\"><img src=\"https://colab.research.google.com/assets/colab-badge.svg\" alt=\"Open In Colab\"/></a>"
      ]
    },
    {
      "cell_type": "code",
      "execution_count": null,
      "metadata": {
        "id": "W58Aqxf8tfO2"
      },
      "outputs": [],
      "source": [
        "lista_nums = [1.0,2.0,3.0,4.0,5.0]"
      ]
    },
    {
      "cell_type": "markdown",
      "source": [
        "# **Quest1_EX1**"
      ],
      "metadata": {
        "id": "89UKna2fuQ10"
      }
    },
    {
      "cell_type": "code",
      "source": [
        "for i in lista_nums:\n",
        "  print(\"---------\")\n",
        "  print(type(i))"
      ],
      "metadata": {
        "colab": {
          "base_uri": "https://localhost:8080/"
        },
        "id": "IwNznw_at59V",
        "outputId": "998ea855-f462-4cc4-a0fa-1c113eda3be7"
      },
      "execution_count": null,
      "outputs": [
        {
          "output_type": "stream",
          "name": "stdout",
          "text": [
            "---------\n",
            "<class 'float'>\n",
            "---------\n",
            "<class 'float'>\n",
            "---------\n",
            "<class 'float'>\n",
            "---------\n",
            "<class 'float'>\n",
            "---------\n",
            "<class 'float'>\n"
          ]
        }
      ]
    },
    {
      "cell_type": "markdown",
      "source": [
        "# **Quest1_EX2**"
      ],
      "metadata": {
        "id": "WYNulbNbuV0d"
      }
    },
    {
      "cell_type": "code",
      "source": [
        "lista_mista = [1,\"gato\",2.5,\"cachorro\",3,\"peixe\"]"
      ],
      "metadata": {
        "id": "-bX5Up9muYz8"
      },
      "execution_count": null,
      "outputs": []
    },
    {
      "cell_type": "code",
      "source": [
        "for n in lista_mista:\n",
        "    if(type(n) == str):\n",
        "        print(\"--------\")\n",
        "        print(n, type(n))\n"
      ],
      "metadata": {
        "colab": {
          "base_uri": "https://localhost:8080/"
        },
        "id": "ssRH-7H-u2ZE",
        "outputId": "d6689e7d-0565-44f2-9274-463f10cb31b6"
      },
      "execution_count": null,
      "outputs": [
        {
          "output_type": "stream",
          "name": "stdout",
          "text": [
            "--------\n",
            "gato <class 'str'>\n",
            "--------\n",
            "cachorro <class 'str'>\n",
            "--------\n",
            "peixe <class 'str'>\n"
          ]
        }
      ]
    }
  ]
}